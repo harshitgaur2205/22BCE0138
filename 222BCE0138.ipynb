{
  "nbformat": 4,
  "nbformat_minor": 0,
  "metadata": {
    "colab": {
      "provenance": [],
      "authorship_tag": "ABX9TyN49ThuUKyGKbadC8XFYJuu",
      "include_colab_link": true
    },
    "kernelspec": {
      "name": "python3",
      "display_name": "Python 3"
    },
    "language_info": {
      "name": "python"
    }
  },
  "cells": [
    {
      "cell_type": "markdown",
      "metadata": {
        "id": "view-in-github",
        "colab_type": "text"
      },
      "source": [
        "<a href=\"https://colab.research.google.com/github/harshitgaur2205/22BCE0138/blob/main/222BCE0138.ipynb\" target=\"_parent\"><img src=\"https://colab.research.google.com/assets/colab-badge.svg\" alt=\"Open In Colab\"/></a>"
      ]
    },
    {
      "cell_type": "code",
      "execution_count": 2,
      "metadata": {
        "id": "1Ee8bdS1OuND"
      },
      "outputs": [],
      "source": [
        "import pandas as pd\n",
        "import numpy as np\n",
        "import matplotlib.pyplot as plt\n",
        "import seaborn as sns"
      ]
    },
    {
      "cell_type": "code",
      "source": [
        "url = \"https://raw.githubusercontent.com/salemprakash/EDA/main/Data/txhousing.csv\"\n",
        "df = pd.read_csv(url)"
      ],
      "metadata": {
        "id": "K3ACnZ5QVkkr"
      },
      "execution_count": 4,
      "outputs": []
    },
    {
      "cell_type": "code",
      "source": [
        "print(\"\\nDataset Dimensions:\", df.shape)"
      ],
      "metadata": {
        "colab": {
          "base_uri": "https://localhost:8080/"
        },
        "id": "nC_ai3MDsrG3",
        "outputId": "d1cd5c7d-5266-4e16-cb80-be2d0a8a4a68"
      },
      "execution_count": 5,
      "outputs": [
        {
          "output_type": "stream",
          "name": "stdout",
          "text": [
            "\n",
            "Dataset Dimensions: (8602, 10)\n"
          ]
        }
      ]
    },
    {
      "cell_type": "code",
      "source": [
        "print(\"\\nSummary of the Dataset:\\n\", df.describe())"
      ],
      "metadata": {
        "colab": {
          "base_uri": "https://localhost:8080/"
        },
        "id": "yrowl7xKszRM",
        "outputId": "51710116-f024-44ed-ec7f-0201c7e83400"
      },
      "execution_count": 6,
      "outputs": [
        {
          "output_type": "stream",
          "name": "stdout",
          "text": [
            "\n",
            "Summary of the Dataset:\n",
            "           rownames         year        month        sales        volume  \\\n",
            "count  8602.000000  8602.000000  8602.000000  8034.000000  8.034000e+03   \n",
            "mean   4301.500000  2007.299465     6.406417   549.564600  1.068586e+08   \n",
            "std    2483.327841     4.502923     3.441932  1110.737179  2.449337e+08   \n",
            "min       1.000000  2000.000000     1.000000     6.000000  8.350000e+05   \n",
            "25%    2151.250000  2003.000000     3.000000    86.000000  1.084000e+07   \n",
            "50%    4301.500000  2007.000000     6.000000   169.000000  2.298682e+07   \n",
            "75%    6451.750000  2011.000000     9.000000   467.000000  7.512139e+07   \n",
            "max    8602.000000  2015.000000    12.000000  8945.000000  2.568157e+09   \n",
            "\n",
            "              median      listings    inventory         date  \n",
            "count    7986.000000   7178.000000  7135.000000  8602.000000  \n",
            "mean   128131.442524   3216.902340     7.174590  2007.750000  \n",
            "std     37359.575317   5968.331072     4.612125     4.498718  \n",
            "min     50000.000000      0.000000     0.000000  2000.000000  \n",
            "25%    100000.000000    682.000000     4.900000  2003.833333  \n",
            "50%    123800.000000   1283.000000     6.200000  2007.750000  \n",
            "75%    150000.000000   2953.750000     8.150000  2011.666667  \n",
            "max    304200.000000  43107.000000    55.900000  2015.500000  \n"
          ]
        }
      ]
    },
    {
      "cell_type": "code",
      "source": [
        "print(\"\\nData Types and Missing Values:\\n\", df.info())"
      ],
      "metadata": {
        "colab": {
          "base_uri": "https://localhost:8080/"
        },
        "id": "JJy5gV3qtxFS",
        "outputId": "5e32be83-6792-47dc-f123-96d95e4e0ce2"
      },
      "execution_count": 7,
      "outputs": [
        {
          "output_type": "stream",
          "name": "stdout",
          "text": [
            "<class 'pandas.core.frame.DataFrame'>\n",
            "RangeIndex: 8602 entries, 0 to 8601\n",
            "Data columns (total 10 columns):\n",
            " #   Column     Non-Null Count  Dtype  \n",
            "---  ------     --------------  -----  \n",
            " 0   rownames   8602 non-null   int64  \n",
            " 1   city       8602 non-null   object \n",
            " 2   year       8602 non-null   int64  \n",
            " 3   month      8602 non-null   int64  \n",
            " 4   sales      8034 non-null   float64\n",
            " 5   volume     8034 non-null   float64\n",
            " 6   median     7986 non-null   float64\n",
            " 7   listings   7178 non-null   float64\n",
            " 8   inventory  7135 non-null   float64\n",
            " 9   date       8602 non-null   float64\n",
            "dtypes: float64(6), int64(3), object(1)\n",
            "memory usage: 672.2+ KB\n",
            "\n",
            "Data Types and Missing Values:\n",
            " None\n"
          ]
        }
      ]
    },
    {
      "cell_type": "code",
      "source": [
        "print(\"\\nMissing Values:\\n\", df.isnull().sum())"
      ],
      "metadata": {
        "colab": {
          "base_uri": "https://localhost:8080/"
        },
        "id": "EZGPvfpLuHp5",
        "outputId": "3207b864-1a82-43cc-fd38-21fab2ebf8a2"
      },
      "execution_count": 8,
      "outputs": [
        {
          "output_type": "stream",
          "name": "stdout",
          "text": [
            "\n",
            "Missing Values:\n",
            " rownames        0\n",
            "city            0\n",
            "year            0\n",
            "month           0\n",
            "sales         568\n",
            "volume        568\n",
            "median        616\n",
            "listings     1424\n",
            "inventory    1467\n",
            "date            0\n",
            "dtype: int64\n"
          ]
        }
      ]
    },
    {
      "cell_type": "code",
      "source": [
        "numeric_columns = df.select_dtypes(include=[np.number]).columns\n",
        "\n",
        "# Filling missing values in numeric columns with the mean of each column\n",
        "df_clean = df.copy()  # Make a copy of the dataframe\n",
        "df_clean[numeric_columns] = df_clean[numeric_columns].fillna(df[numeric_columns].mean())\n",
        "\n",
        "# Check for missing values after cleaning\n",
        "print(\"\\nMissing Values After Cleaning:\\n\", df_clean.isnull().sum())\n",
        "print(()"
      ],
      "metadata": {
        "colab": {
          "base_uri": "https://localhost:8080/"
        },
        "id": "oxLc81TBubJi",
        "outputId": "3d83a9e5-d0bc-4532-82c7-6b21e20895cd"
      },
      "execution_count": 12,
      "outputs": [
        {
          "output_type": "stream",
          "name": "stdout",
          "text": [
            "\n",
            "Missing Values After Cleaning:\n",
            " rownames     0\n",
            "city         0\n",
            "year         0\n",
            "month        0\n",
            "sales        0\n",
            "volume       0\n",
            "median       0\n",
            "listings     0\n",
            "inventory    0\n",
            "date         0\n",
            "dtype: int64\n"
          ]
        }
      ]
    }
  ]
}